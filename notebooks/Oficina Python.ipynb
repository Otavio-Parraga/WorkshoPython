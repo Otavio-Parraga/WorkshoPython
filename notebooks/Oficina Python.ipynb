{
  "cells": [
    {
      "cell_type": "markdown",
      "metadata": {
        "id": "l6Zr5-NJQCqO"
      },
      "source": [
        "# Preparando o Terreno\n",
        "- Aqui faremos algumas instalações necessárias para podermos rodar nossos experimentos"
      ]
    },
    {
      "cell_type": "code",
      "execution_count": null,
      "metadata": {
        "id": "v7X1Sej3pDmR"
      },
      "outputs": [],
      "source": [
        "# Ao colocar ! antes de um comando, indicamos que iremos rodar esse comando no terminal da máquina\n",
        "! pip install wikipedia gradio seaborn cowsay art folium wordcloud\n",
        "! pip install -U bitsandbytes\n",
        "! git clone https://github.com/Otavio-Parraga/WorkshoPythonSA.git\n",
        "\n",
        "import os\n",
        "os.environ['HF_TOKEN'] = \"SEU_TOKEN_HF_AQUI\"\n",
        "\n",
        "# iremos também configurar algumas constantes (apenas para facilitar a vida)\n",
        "from WorkshoPython import *"
      ]
    },
    {
      "cell_type": "markdown",
      "metadata": {
        "id": "S_gN7KrfBsVu"
      },
      "source": [
        "# Introdução a Python\n",
        "- Vamos passar pelas estruturas básicas de Python\n",
        "- Condicionais, loops, listas, dicionários, funções, etc."
      ]
    },
    {
      "cell_type": "code",
      "execution_count": null,
      "metadata": {
        "id": "e33DQli-KvGq"
      },
      "outputs": [],
      "source": [
        "# Variáveis, tipos básicos e printing"
      ]
    },
    {
      "cell_type": "code",
      "execution_count": null,
      "metadata": {
        "id": "qVB_DgWdSLuf"
      },
      "outputs": [],
      "source": [
        "# formatação e funções de Strings"
      ]
    },
    {
      "cell_type": "code",
      "execution_count": null,
      "metadata": {
        "id": "WhGXylGL9mfc"
      },
      "outputs": [],
      "source": [
        "# condicionais"
      ]
    },
    {
      "cell_type": "code",
      "execution_count": null,
      "metadata": {
        "id": "zXCT6Cdd2DUA"
      },
      "outputs": [],
      "source": [
        "# loops"
      ]
    },
    {
      "cell_type": "markdown",
      "metadata": {
        "id": "A_-zJkH2TVu6"
      },
      "source": [
        "## Estruturas de Dados"
      ]
    },
    {
      "cell_type": "code",
      "execution_count": null,
      "metadata": {
        "id": "ZjcVeVfc9v9w"
      },
      "outputs": [],
      "source": [
        "# estruturas de dados e compreensão"
      ]
    },
    {
      "cell_type": "code",
      "execution_count": null,
      "metadata": {
        "id": "FcDWiym9GUQc"
      },
      "outputs": [],
      "source": [
        "# indexacao"
      ]
    },
    {
      "cell_type": "code",
      "execution_count": null,
      "metadata": {
        "id": "R9ZeNr_eT7_a"
      },
      "outputs": [],
      "source": [
        "# tuplas"
      ]
    },
    {
      "cell_type": "code",
      "execution_count": null,
      "metadata": {
        "id": "aJB7gCiG-F6V"
      },
      "outputs": [],
      "source": [
        "# conjuntos"
      ]
    },
    {
      "cell_type": "code",
      "execution_count": null,
      "metadata": {
        "id": "hmv490TX92VZ"
      },
      "outputs": [],
      "source": [
        "# dicionarios"
      ]
    },
    {
      "cell_type": "markdown",
      "metadata": {
        "id": "mMo40eINTXwG"
      },
      "source": [
        "## Funções"
      ]
    },
    {
      "cell_type": "code",
      "execution_count": null,
      "metadata": {
        "id": "G6boIktpEca5"
      },
      "outputs": [],
      "source": [
        "# Funções\n"
      ]
    },
    {
      "cell_type": "code",
      "execution_count": null,
      "metadata": {
        "id": "nBOZL1lbWF_j"
      },
      "outputs": [],
      "source": [
        "# retornos em tuplas"
      ]
    },
    {
      "cell_type": "code",
      "execution_count": null,
      "metadata": {
        "id": "AMs6poYpWnSC"
      },
      "outputs": [],
      "source": [
        "# *args"
      ]
    },
    {
      "cell_type": "code",
      "execution_count": null,
      "metadata": {
        "id": "307iGB8UXE6J"
      },
      "outputs": [],
      "source": [
        "# **kwargs"
      ]
    },
    {
      "cell_type": "code",
      "execution_count": null,
      "metadata": {
        "id": "XC7gcn1NS2lI"
      },
      "outputs": [],
      "source": [
        "# type"
      ]
    },
    {
      "cell_type": "code",
      "execution_count": null,
      "metadata": {
        "id": "kTXzlfwxS5u-"
      },
      "outputs": [],
      "source": [
        "# help"
      ]
    },
    {
      "cell_type": "code",
      "execution_count": null,
      "metadata": {
        "id": "KN5fzBfUS7gD"
      },
      "outputs": [],
      "source": [
        "# map"
      ]
    },
    {
      "cell_type": "code",
      "execution_count": null,
      "metadata": {
        "id": "zRPKUxMAS9NJ"
      },
      "outputs": [],
      "source": [
        "# filter"
      ]
    },
    {
      "cell_type": "code",
      "execution_count": null,
      "metadata": {
        "id": "ijTVdQUoS-ch"
      },
      "outputs": [],
      "source": [
        "# zip"
      ]
    },
    {
      "cell_type": "code",
      "execution_count": null,
      "metadata": {
        "id": "k6O9nZqaS_wH"
      },
      "outputs": [],
      "source": [
        "# enumerate"
      ]
    },
    {
      "cell_type": "code",
      "execution_count": null,
      "metadata": {
        "id": "OILt6fvWFk9D"
      },
      "outputs": [],
      "source": [
        "# with"
      ]
    },
    {
      "cell_type": "markdown",
      "metadata": {
        "id": "jEbDAqxcP_VJ"
      },
      "source": [
        "# Algumas bibliotecas interessantes"
      ]
    },
    {
      "cell_type": "code",
      "execution_count": null,
      "metadata": {
        "id": "euH187wQO36w"
      },
      "outputs": [],
      "source": [
        "# Temos alguns easter eggs na linguagem\n"
      ]
    },
    {
      "cell_type": "code",
      "execution_count": null,
      "metadata": {
        "id": "3qg4VwkXO6YR"
      },
      "outputs": [],
      "source": [
        "# Podemos deixar as iterações bonitas\n"
      ]
    },
    {
      "cell_type": "code",
      "execution_count": null,
      "metadata": {
        "id": "nVUnctQoPqG2"
      },
      "outputs": [],
      "source": [
        "# Um pouquinho de brincadeira não faz mal\n"
      ]
    },
    {
      "cell_type": "code",
      "execution_count": null,
      "metadata": {
        "id": "QMjAuFRRQBIl"
      },
      "outputs": [],
      "source": [
        "from art import tprint\n",
        "\n",
        "tprint(\"Arte!\")"
      ]
    },
    {
      "cell_type": "code",
      "execution_count": null,
      "metadata": {
        "id": "K_dE9YUcQ_Jm"
      },
      "outputs": [],
      "source": [
        "import folium\n",
        "\n",
        "# Cria um mapa centrado no ponto indicado\n",
        "# As coordenadas são [Latitude, Longitude]\n",
        "mapa = folium.Map(location=[-30.05925097055111, -51.172985771163894], zoom_start=15)\n",
        "\n",
        "# Adiciona um \"pin\" (marcador)\n",
        "folium.Marker(\n",
        "    location=[-30.05925097055111, -51.172985771163894],\n",
        "    popup=\"PUCRS\",\n",
        "    tooltip=\"Clique aqui!\"\n",
        ").add_to(mapa)\n",
        "\n",
        "# Apenas chame a variável 'mapa' na última linha da célula\n",
        "mapa"
      ]
    },
    {
      "cell_type": "markdown",
      "metadata": {
        "id": "z3G_b9Nevba0"
      },
      "source": [
        "## Para Ciência de Dados"
      ]
    },
    {
      "cell_type": "code",
      "execution_count": null,
      "metadata": {
        "id": "Ruj0wqWTPdJQ"
      },
      "outputs": [],
      "source": [
        "import pandas as pd\n",
        "\n",
        "df = pd.read_csv(DATA_LINK)"
      ]
    },
    {
      "cell_type": "code",
      "execution_count": null,
      "metadata": {
        "id": "zuMY90tv4eGi"
      },
      "outputs": [],
      "source": []
    },
    {
      "cell_type": "code",
      "execution_count": null,
      "metadata": {
        "id": "vuAfcjIs4reS"
      },
      "outputs": [],
      "source": []
    },
    {
      "cell_type": "code",
      "execution_count": null,
      "metadata": {
        "id": "dMA3w3GQySZv"
      },
      "outputs": [],
      "source": [
        "from wordcloud import WordCloud\n",
        "import matplotlib.pyplot as plt\n",
        "\n",
        "descriptions = df['description'].str.cat(sep=' ')\n",
        "wordcloud = WordCloud(width=800, height=400, background_color='white').generate(descriptions)\n",
        "plt.imshow(wordcloud)"
      ]
    },
    {
      "cell_type": "code",
      "execution_count": null,
      "metadata": {
        "id": "W1aShr-p9CK4"
      },
      "outputs": [],
      "source": [
        "# E podemos pesquisar na Wikipedia\n",
        "import wikipedia\n",
        "wikipedia.set_lang(\"pt\")\n",
        "\n",
        "def busca_wikipedia(termo: str, sentences: int = 2) -> str:\n",
        "    try:\n",
        "        resumo = wikipedia.summary(termo, sentences=sentences)\n",
        "        return resumo\n",
        "    except:\n",
        "        return \"Não encontrei nada sobre isso na Wikipedia.\"\n",
        "\n",
        "print(busca_wikipedia(\"John Mayer\", 20))"
      ]
    },
    {
      "cell_type": "markdown",
      "metadata": {
        "id": "I5LWLdzxRdM5"
      },
      "source": [
        "# Podemos integrar com LLMs facilmente"
      ]
    },
    {
      "cell_type": "code",
      "execution_count": null,
      "metadata": {
        "id": "_8CmKPowZXY2"
      },
      "outputs": [],
      "source": [
        "from transformers import pipeline\n",
        "\n",
        "model = pipeline(\"text-generation\",\n",
        "                 model=QWEN_PATH,\n",
        "                 device_map=\"auto\",\n",
        "                 model_kwargs={\"quantization_config\": QUANT_CONFIG})"
      ]
    },
    {
      "cell_type": "code",
      "execution_count": null,
      "metadata": {
        "id": "V41q99LNMcM_"
      },
      "outputs": [],
      "source": [
        "import gradio as gr\n",
        "\n",
        "\n",
        "def chat_with_llm(message, history):\n",
        "    \"\"\"\n",
        "    Recebe a mensagem do usuário e o histórico do chat,\n",
        "    envia para o modelo e retorna a resposta.\n",
        "    \"\"\"\n",
        "    messages = [{\"role\": \"system\", \"content\": \"Você é um assistente útil e educado.\"}] + history\n",
        "\n",
        "    # Adiciona a nova mensagem\n",
        "    messages.append({\"role\": \"user\", \"content\": message})\n",
        "\n",
        "    completion = model(messages,\n",
        "                       max_new_tokens=512,\n",
        "                       return_full_text =False,\n",
        "                       eos_token_id=model.tokenizer.eos_token_id,\n",
        "                       temperature=0.7,\n",
        "                       top_p=0.9)[0]['generated_text']\n",
        "    return completion\n",
        "\n",
        "\n",
        "# --- Interface com Gradio ---\n",
        "demo = gr.ChatInterface(\n",
        "    fn=chat_with_llm,\n",
        "    type=\"messages\",\n",
        "    title=\"💬 Chatbot via Hugging Face\",\n",
        "    description=\"Workshop de Python\",\n",
        "    # theme=\"soft\",\n",
        "    # examples=[\"Explique o que é aprendizado de máquina.\", \"Resuma a história do Python.\"],\n",
        ")\n",
        "\n",
        "# --- Inicia o app ---\n",
        "demo.launch(debug=True)"
      ]
    },
    {
      "cell_type": "code",
      "execution_count": null,
      "metadata": {
        "id": "sxh_CGZS4DxF"
      },
      "outputs": [],
      "source": []
    },
    {
      "cell_type": "code",
      "execution_count": null,
      "metadata": {
        "id": "GYIeYkHaRdm8"
      },
      "outputs": [],
      "source": []
    }
  ],
  "metadata": {
    "colab": {
      "provenance": []
    },
    "kernelspec": {
      "display_name": "Python 3",
      "name": "python3"
    },
    "language_info": {
      "name": "python"
    }
  },
  "nbformat": 4,
  "nbformat_minor": 0
}
