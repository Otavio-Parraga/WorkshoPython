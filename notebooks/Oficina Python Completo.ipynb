{
  "cells": [
    {
      "cell_type": "markdown",
      "metadata": {
        "id": "l6Zr5-NJQCqO"
      },
      "source": [
        "# Preparando o Terreno\n",
        "- Aqui faremos algumas instalações necessárias para podermos rodar nossos experimentos"
      ]
    },
    {
      "cell_type": "code",
      "execution_count": null,
      "metadata": {
        "id": "v7X1Sej3pDmR"
      },
      "outputs": [],
      "source": [
        "# Ao colocar ! antes de um comando, indicamos que iremos rodar esse comando no terminal da máquina\n",
        "! pip install wikipedia gradio seaborn cowsay art folium wordcloud\n",
        "! pip install -U bitsandbytes\n",
        "! git clone https://github.com/Otavio-Parraga/WorkshoPythonSA.git\n",
        "\n",
        "import os\n",
        "os.environ['HF_TOKEN'] = \"SEU_TOKEN_HF_AQUI\"\n",
        "\n",
        "# iremos também configurar algumas constantes (apenas para facilitar a vida)\n",
        "from WorkshoPythonSA import *"
      ]
    },
    {
      "cell_type": "markdown",
      "metadata": {
        "id": "S_gN7KrfBsVu"
      },
      "source": [
        "# Introdução a Python\n",
        "- Vamos passar pelas estruturas básicas de Python\n",
        "- Condicionais, loops, listas, dicionários, funções, etc."
      ]
    },
    {
      "cell_type": "code",
      "execution_count": null,
      "metadata": {
        "id": "e33DQli-KvGq"
      },
      "outputs": [],
      "source": [
        "# Variáveis, tipos básicos e printing\n",
        "nome = \"Python\"\n",
        "versao = 3.12\n",
        "print(\"Bem-vindo ao \",nome, \" \", versao)"
      ]
    },
    {
      "cell_type": "code",
      "execution_count": null,
      "metadata": {
        "id": "qVB_DgWdSLuf"
      },
      "outputs": [],
      "source": [
        "# formatação de Strings\n",
        "print(f\"Bem-vindo ao {nome} {versao}!\")"
      ]
    },
    {
      "cell_type": "code",
      "execution_count": null,
      "metadata": {
        "id": "HrUsT1nUStM8"
      },
      "outputs": [],
      "source": [
        "texto = \"um texto qualquer\"\n",
        "print(texto)\n",
        "print(texto.upper())"
      ]
    },
    {
      "cell_type": "code",
      "execution_count": null,
      "metadata": {
        "id": "WhGXylGL9mfc"
      },
      "outputs": [],
      "source": [
        "for i in range(10):\n",
        "    print(i)"
      ]
    },
    {
      "cell_type": "markdown",
      "metadata": {
        "id": "A_-zJkH2TVu6"
      },
      "source": [
        "## Estruturas de Dados"
      ]
    },
    {
      "cell_type": "code",
      "execution_count": null,
      "metadata": {
        "id": "ZjcVeVfc9v9w"
      },
      "outputs": [],
      "source": [
        "# estruturas de dados e compreensão\n",
        "print(\"Listas\")\n",
        "lista = [1, 2, 3, 4, 5]\n",
        "print(lista)\n",
        "\n",
        "quadrados = [x**2 for x in range(10)]\n",
        "print(quadrados)"
      ]
    },
    {
      "cell_type": "code",
      "execution_count": null,
      "metadata": {
        "id": "FcDWiym9GUQc"
      },
      "outputs": [],
      "source": [
        "# indexacao\n",
        "lista = [0,1,2,3,4,5,6,7,8,9]\n",
        "print(lista[0])\n",
        "print(lista[1])\n",
        "print(lista[-1])\n",
        "print(lista[-2])\n",
        "print(lista[0:3])\n",
        "print(lista[3:7])\n",
        "print(lista[-3:])"
      ]
    },
    {
      "cell_type": "code",
      "execution_count": null,
      "metadata": {
        "id": "R9ZeNr_eT7_a"
      },
      "outputs": [],
      "source": [
        "# tuplas\n",
        "\n",
        "tupla = (1, 2, 3, 4, 5)\n",
        "print(tupla)"
      ]
    },
    {
      "cell_type": "code",
      "execution_count": null,
      "metadata": {
        "id": "aJB7gCiG-F6V"
      },
      "outputs": [],
      "source": [
        "# conjuntos\n",
        "\n",
        "conjunto = {1, 2, 3, 4, 5}\n",
        "print(conjunto)\n",
        "\n",
        "conjunto2 = {1, 2, 3, 4, 5, 5, 5, 5, 5}\n",
        "\n",
        "print(conjunto.intersection(conjunto2))\n",
        "print(conjunto.union(conjunto2))\n",
        "print(conjunto.difference(conjunto2))"
      ]
    },
    {
      "cell_type": "code",
      "execution_count": null,
      "metadata": {
        "id": "hmv490TX92VZ"
      },
      "outputs": [],
      "source": [
        "# dicionarios\n",
        "\n",
        "dicionario = {\n",
        "    \"chave1\": \"valor1\",\n",
        "    \"chave2\": \"valor2\",\n",
        "    \"chave3\": 3\n",
        "}"
      ]
    },
    {
      "cell_type": "code",
      "execution_count": null,
      "metadata": {
        "id": "k2_LOPw_TZ1b"
      },
      "outputs": [],
      "source": []
    },
    {
      "cell_type": "markdown",
      "metadata": {
        "id": "mMo40eINTXwG"
      },
      "source": [
        "## Funções"
      ]
    },
    {
      "cell_type": "code",
      "execution_count": null,
      "metadata": {
        "id": "G6boIktpEca5"
      },
      "outputs": [],
      "source": [
        "# Funções\n",
        "def saudacao(nome):\n",
        "    return f\"Olá, {nome}!\"\n",
        "print(saudacao(\"participante\"))"
      ]
    },
    {
      "cell_type": "code",
      "execution_count": null,
      "metadata": {
        "id": "nBOZL1lbWF_j"
      },
      "outputs": [],
      "source": [
        "def retornando_tuplas(valor1, valor2):\n",
        "    return valor1, valor2, valor1 + valor2\n",
        "\n",
        "print(retornando_tuplas(10, 20))"
      ]
    },
    {
      "cell_type": "code",
      "execution_count": null,
      "metadata": {
        "colab": {
          "base_uri": "https://localhost:8080/"
        },
        "id": "AMs6poYpWnSC",
        "outputId": "e72193fb-97a7-42f5-c6db-17204be5ba74"
      },
      "outputs": [
        {
          "name": "stdout",
          "output_type": "stream",
          "text": [
            "1\n",
            "2\n",
            "3\n",
            "4\n",
            "5\n",
            "1\n",
            "2\n",
            "opa\n",
            "True\n"
          ]
        }
      ],
      "source": [
        "def recebendo_args(*args):\n",
        "    for arg in args:\n",
        "        print(arg)\n",
        "\n",
        "recebendo_args(1, 2, 3, 4, 5)\n",
        "recebendo_args(1,2,\"opa\", True)"
      ]
    },
    {
      "cell_type": "code",
      "execution_count": null,
      "metadata": {
        "id": "307iGB8UXE6J"
      },
      "outputs": [],
      "source": [
        "def recebendo_kwargs(**kwargs):\n",
        "    for key, value in kwargs.items():\n",
        "        print(f\"{key}: {value}\")\n",
        "\n",
        "recebendo_kwargs(nome=\"João\", idade=30)"
      ]
    },
    {
      "cell_type": "code",
      "execution_count": null,
      "metadata": {
        "id": "XC7gcn1NS2lI"
      },
      "outputs": [],
      "source": [
        "# type\n",
        "print(type(\"string\"))\n",
        "print(type(recebendo_kwargs))"
      ]
    },
    {
      "cell_type": "code",
      "execution_count": null,
      "metadata": {
        "colab": {
          "base_uri": "https://localhost:8080/"
        },
        "id": "kTXzlfwxS5u-",
        "outputId": "9d8053cf-cf7e-463d-f530-4df34e548c1e"
      },
      "outputs": [
        {
          "name": "stdout",
          "output_type": "stream",
          "text": [
            "Help on class range in module builtins:\n",
            "\n",
            "class range(object)\n",
            " |  range(stop) -> range object\n",
            " |  range(start, stop[, step]) -> range object\n",
            " |\n",
            " |  Return an object that produces a sequence of integers from start (inclusive)\n",
            " |  to stop (exclusive) by step.  range(i, j) produces i, i+1, i+2, ..., j-1.\n",
            " |  start defaults to 0, and stop is omitted!  range(4) produces 0, 1, 2, 3.\n",
            " |  These are exactly the valid indices for a list of 4 elements.\n",
            " |  When step is given, it specifies the increment (or decrement).\n",
            " |\n",
            " |  Methods defined here:\n",
            " |\n",
            " |  __bool__(self, /)\n",
            " |      True if self else False\n",
            " |\n",
            " |  __contains__(self, key, /)\n",
            " |      Return bool(key in self).\n",
            " |\n",
            " |  __eq__(self, value, /)\n",
            " |      Return self==value.\n",
            " |\n",
            " |  __ge__(self, value, /)\n",
            " |      Return self>=value.\n",
            " |\n",
            " |  __getattribute__(self, name, /)\n",
            " |      Return getattr(self, name).\n",
            " |\n",
            " |  __getitem__(self, key, /)\n",
            " |      Return self[key].\n",
            " |\n",
            " |  __gt__(self, value, /)\n",
            " |      Return self>value.\n",
            " |\n",
            " |  __hash__(self, /)\n",
            " |      Return hash(self).\n",
            " |\n",
            " |  __iter__(self, /)\n",
            " |      Implement iter(self).\n",
            " |\n",
            " |  __le__(self, value, /)\n",
            " |      Return self<=value.\n",
            " |\n",
            " |  __len__(self, /)\n",
            " |      Return len(self).\n",
            " |\n",
            " |  __lt__(self, value, /)\n",
            " |      Return self<value.\n",
            " |\n",
            " |  __ne__(self, value, /)\n",
            " |      Return self!=value.\n",
            " |\n",
            " |  __reduce__(...)\n",
            " |      Helper for pickle.\n",
            " |\n",
            " |  __repr__(self, /)\n",
            " |      Return repr(self).\n",
            " |\n",
            " |  __reversed__(...)\n",
            " |      Return a reverse iterator.\n",
            " |\n",
            " |  count(...)\n",
            " |      rangeobject.count(value) -> integer -- return number of occurrences of value\n",
            " |\n",
            " |  index(...)\n",
            " |      rangeobject.index(value) -> integer -- return index of value.\n",
            " |      Raise ValueError if the value is not present.\n",
            " |\n",
            " |  ----------------------------------------------------------------------\n",
            " |  Static methods defined here:\n",
            " |\n",
            " |  __new__(*args, **kwargs)\n",
            " |      Create and return a new object.  See help(type) for accurate signature.\n",
            " |\n",
            " |  ----------------------------------------------------------------------\n",
            " |  Data descriptors defined here:\n",
            " |\n",
            " |  start\n",
            " |\n",
            " |  step\n",
            " |\n",
            " |  stop\n",
            "\n"
          ]
        }
      ],
      "source": [
        "# help\n",
        "help(range)"
      ]
    },
    {
      "cell_type": "code",
      "execution_count": null,
      "metadata": {
        "id": "KN5fzBfUS7gD"
      },
      "outputs": [],
      "source": [
        "# map\n",
        "print(recebendo_kwargs)\n",
        "\n",
        "list(map(lambda x: x**2, range(10)))"
      ]
    },
    {
      "cell_type": "code",
      "execution_count": null,
      "metadata": {
        "id": "zRPKUxMAS9NJ"
      },
      "outputs": [],
      "source": [
        "# filter\n",
        "list(filter(lambda x: x % 2 == 0, range(10)))"
      ]
    },
    {
      "cell_type": "code",
      "execution_count": null,
      "metadata": {
        "id": "ijTVdQUoS-ch"
      },
      "outputs": [],
      "source": [
        "# zip\n",
        "lista1 = [1, 2, 3]\n",
        "lista2 = ['a', 'b', 'c']\n",
        "for item in zip(lista1, lista2):\n",
        "    print(item)"
      ]
    },
    {
      "cell_type": "code",
      "execution_count": null,
      "metadata": {
        "id": "k6O9nZqaS_wH"
      },
      "outputs": [],
      "source": [
        "# enumerate\n",
        "for i, item in enumerate(lista2):\n",
        "    print(i, item)"
      ]
    },
    {
      "cell_type": "code",
      "execution_count": null,
      "metadata": {
        "id": "OILt6fvWFk9D"
      },
      "outputs": [],
      "source": [
        "# with\n",
        "with open('WorkshoPythonSA/constants.py', \"r\") as f:\n",
        "    for line in f:\n",
        "        print(line)"
      ]
    },
    {
      "cell_type": "markdown",
      "metadata": {
        "id": "jEbDAqxcP_VJ"
      },
      "source": [
        "# Algumas bibliotecas interessantes"
      ]
    },
    {
      "cell_type": "code",
      "execution_count": null,
      "metadata": {
        "id": "euH187wQO36w"
      },
      "outputs": [],
      "source": [
        "# Temos alguns easter eggs na linguagem\n",
        "import this"
      ]
    },
    {
      "cell_type": "code",
      "execution_count": null,
      "metadata": {
        "id": "3qg4VwkXO6YR"
      },
      "outputs": [],
      "source": [
        "# Podemos deixar as iterações bonitas\n",
        "from tqdm import tqdm\n",
        "import time\n",
        "\n",
        "for i in tqdm(range(30)):\n",
        "    time.sleep(0.5)"
      ]
    },
    {
      "cell_type": "code",
      "execution_count": null,
      "metadata": {
        "id": "nVUnctQoPqG2"
      },
      "outputs": [],
      "source": [
        "# Um pouquinho de brincadeira não faz mal\n",
        "import cowsay\n",
        "\n",
        "cowsay.dragon(\"Jupyter é muito legal!\")"
      ]
    },
    {
      "cell_type": "code",
      "execution_count": null,
      "metadata": {
        "id": "QMjAuFRRQBIl"
      },
      "outputs": [],
      "source": [
        "from art import tprint\n",
        "\n",
        "tprint(\"Arte!\")"
      ]
    },
    {
      "cell_type": "code",
      "execution_count": null,
      "metadata": {
        "id": "K_dE9YUcQ_Jm"
      },
      "outputs": [],
      "source": [
        "import folium\n",
        "\n",
        "# Cria um mapa centrado no ponto indicado\n",
        "# As coordenadas são [Latitude, Longitude]\n",
        "mapa = folium.Map(location=[-30.05925097055111, -51.172985771163894], zoom_start=15)\n",
        "\n",
        "# Adiciona um \"pin\" (marcador)\n",
        "folium.Marker(\n",
        "    location=[-30.05925097055111, -51.172985771163894],\n",
        "    popup=\"PUCRS\",\n",
        "    tooltip=\"Clique aqui!\"\n",
        ").add_to(mapa)\n",
        "\n",
        "# Apenas chame a variável 'mapa' na última linha da célula\n",
        "mapa"
      ]
    },
    {
      "cell_type": "markdown",
      "metadata": {
        "id": "z3G_b9Nevba0"
      },
      "source": [
        "## Para Ciência de Dados"
      ]
    },
    {
      "cell_type": "code",
      "execution_count": null,
      "metadata": {
        "id": "Ruj0wqWTPdJQ"
      },
      "outputs": [],
      "source": [
        "import pandas as pd\n",
        "\n",
        "df = pd.read_csv(DATA_LINK_IMDB)\n",
        "# dfn = pd.read_csv(DATA_LINK)\n",
        "df.columns"
      ]
    },
    {
      "cell_type": "code",
      "execution_count": null,
      "metadata": {
        "id": "F64FsMonJrRp"
      },
      "outputs": [],
      "source": [
        "df[df['title'].str.contains('transformer', case=False)]"
      ]
    },
    {
      "cell_type": "code",
      "execution_count": null,
      "metadata": {
        "id": "VCFrjsIHy4q4"
      },
      "outputs": [],
      "source": [
        "df.dropna()[df.dropna()['cast'].str.contains('cage', case=False)]"
      ]
    },
    {
      "cell_type": "code",
      "execution_count": null,
      "metadata": {
        "id": "LlmCgYyux1Bv"
      },
      "outputs": [],
      "source": [
        "df[df['release_year'] > 2019]"
      ]
    },
    {
      "cell_type": "code",
      "execution_count": null,
      "metadata": {
        "id": "tgO_KDpRzNeo"
      },
      "outputs": [],
      "source": [
        "df['minutes'] = df['duration'].apply(lambda x: x.split(' ')[0] if 'Season' not in x else None)"
      ]
    },
    {
      "cell_type": "code",
      "execution_count": null,
      "metadata": {
        "id": "gKYSh30ksWwe"
      },
      "outputs": [],
      "source": [
        "df"
      ]
    },
    {
      "cell_type": "code",
      "execution_count": null,
      "metadata": {
        "id": "dMA3w3GQySZv"
      },
      "outputs": [],
      "source": [
        "from wordcloud import WordCloud\n",
        "import matplotlib.pyplot as plt\n",
        "\n",
        "descriptions = dfn['description'].str.cat(sep=' ')\n",
        "wordcloud = WordCloud(width=800, height=400, background_color='white').generate(descriptions)\n",
        "plt.imshow(wordcloud)"
      ]
    },
    {
      "cell_type": "code",
      "execution_count": null,
      "metadata": {
        "id": "W1aShr-p9CK4"
      },
      "outputs": [],
      "source": [
        "# E podemos pesquisar na Wikipedia\n",
        "import wikipedia\n",
        "wikipedia.set_lang(\"pt\")\n",
        "\n",
        "def busca_wikipedia(termo: str, sentences: int = 2) -> str:\n",
        "    try:\n",
        "        resumo = wikipedia.summary(termo, sentences=sentences)\n",
        "        return resumo\n",
        "    except wikipedia.exceptions.DisambiguationError as e:\n",
        "        return f\"Resultado ambíguo. Tente ser mais específico: {e.options[:3]}\"\n",
        "    except Exception as ex:\n",
        "        return \"Não encontrei nada sobre isso na Wikipedia.\"\n",
        "\n",
        "print(busca_wikipedia(\"John Mayer\", 20))"
      ]
    },
    {
      "cell_type": "markdown",
      "metadata": {
        "id": "I5LWLdzxRdM5"
      },
      "source": [
        "# Podemos integrar com LLMs facilmente"
      ]
    },
    {
      "cell_type": "code",
      "execution_count": null,
      "metadata": {
        "id": "_8CmKPowZXY2"
      },
      "outputs": [],
      "source": [
        "from transformers import pipeline\n",
        "\n",
        "model = pipeline(\"text-generation\",\n",
        "                 model=QWEN_PATH,\n",
        "                 device_map=\"auto\",\n",
        "                 model_kwargs={\"quantization_config\": QUANT_CONFIG})"
      ]
    },
    {
      "cell_type": "code",
      "execution_count": null,
      "metadata": {
        "id": "V41q99LNMcM_"
      },
      "outputs": [],
      "source": [
        "import gradio as gr\n",
        "\n",
        "\n",
        "def chat_with_llm(message, history):\n",
        "    \"\"\"\n",
        "    Recebe a mensagem do usuário e o histórico do chat,\n",
        "    envia para o modelo e retorna a resposta.\n",
        "    \"\"\"\n",
        "    messages = [{\"role\": \"system\", \"content\": \"Você é um assistente útil e educado.\"}] + history\n",
        "\n",
        "    # Adiciona a nova mensagem\n",
        "    messages.append({\"role\": \"user\", \"content\": message})\n",
        "\n",
        "    completion = model(messages,\n",
        "                       max_new_tokens=512,\n",
        "                       return_full_text =False,\n",
        "                       eos_token_id=model.tokenizer.eos_token_id,\n",
        "                       temperature=0.7,\n",
        "                       top_p=0.9)[0]['generated_text']\n",
        "    return completion\n",
        "\n",
        "\n",
        "# --- Interface com Gradio ---\n",
        "demo = gr.ChatInterface(\n",
        "    fn=chat_with_llm,\n",
        "    type=\"messages\",\n",
        "    title=\"💬 Chatbot via Hugging Face\",\n",
        "    description=\"Workshop de Python\",\n",
        "    # theme=\"soft\",\n",
        "    # examples=[\"Explique o que é aprendizado de máquina.\", \"Resuma a história do Python.\"],\n",
        ")\n",
        "\n",
        "# --- Inicia o app ---\n",
        "demo.launch(debug=True)"
      ]
    },
    {
      "cell_type": "code",
      "execution_count": null,
      "metadata": {
        "id": "sxh_CGZS4DxF"
      },
      "outputs": [],
      "source": []
    },
    {
      "cell_type": "code",
      "execution_count": null,
      "metadata": {
        "id": "GYIeYkHaRdm8"
      },
      "outputs": [],
      "source": []
    }
  ],
  "metadata": {
    "colab": {
      "provenance": []
    },
    "kernelspec": {
      "display_name": "Python 3",
      "name": "python3"
    },
    "language_info": {
      "name": "python"
    }
  },
  "nbformat": 4,
  "nbformat_minor": 0
}
